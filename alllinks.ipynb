{
 "cells": [
  {
   "cell_type": "code",
   "execution_count": 1,
   "metadata": {},
   "outputs": [
    {
     "ename": "ModuleNotFoundError",
     "evalue": "No module named 'requests'",
     "output_type": "error",
     "traceback": [
      "\u001b[1;31m---------------------------------------------------------------------------\u001b[0m",
      "\u001b[1;31mModuleNotFoundError\u001b[0m                       Traceback (most recent call last)",
      "Cell \u001b[1;32mIn[1], line 1\u001b[0m\n\u001b[1;32m----> 1\u001b[0m \u001b[38;5;28;01mimport\u001b[39;00m \u001b[38;5;21;01mrequests\u001b[39;00m\n\u001b[0;32m      2\u001b[0m \u001b[38;5;28;01mfrom\u001b[39;00m \u001b[38;5;21;01mbs4\u001b[39;00m \u001b[38;5;28;01mimport\u001b[39;00m BeautifulSoup\n\u001b[0;32m      3\u001b[0m \u001b[38;5;28;01mfrom\u001b[39;00m \u001b[38;5;21;01murllib\u001b[39;00m\u001b[38;5;21;01m.\u001b[39;00m\u001b[38;5;21;01mparse\u001b[39;00m \u001b[38;5;28;01mimport\u001b[39;00m urljoin\n",
      "\u001b[1;31mModuleNotFoundError\u001b[0m: No module named 'requests'"
     ]
    }
   ],
   "source": [
    "import requests\n",
    "from bs4 import BeautifulSoup\n",
    "from urllib.parse import urljoin\n",
    "\n",
    "# Define the URL of the university website\n",
    "base_url = 'https://www.stonybrook.edu/'\n",
    "\n",
    "# Send a GET request to the base URL\n",
    "response = requests.get(base_url)\n",
    "\n",
    "# Check if the request was successful\n",
    "if response.status_code == 200:\n",
    "    # Parse the HTML content of the base URL\n",
    "    soup = BeautifulSoup(response.text, 'html.parser')\n",
    "\n",
    "    # Find all the <a> tags (links) on the page\n",
    "    all_links = soup.find_all('a')\n",
    "\n",
    "    # Initialize a list to store XML links\n",
    "    xml_links = []\n",
    "\n",
    "    # Iterate through all the links to find XML links\n",
    "    for link in all_links:\n",
    "        # Get the href attribute of the link\n",
    "        href = link.get('href')\n",
    "        \n",
    "        # Check if the href attribute contains '.xml'\n",
    "        if href and '.xml' in href:\n",
    "            # Construct the absolute URL if it's a relative URL\n",
    "            absolute_url = urljoin(base_url, href)\n",
    "            \n",
    "            # Add the XML link to the list\n",
    "            xml_links.append(absolute_url)\n",
    "\n",
    "    # Print the list of XML links\n",
    "    for xml_link in xml_links:\n",
    "        print(xml_link)\n",
    "\n",
    "else:\n",
    "    print(f\"Failed to retrieve the website. Status code: {response.status_code}\")\n"
   ]
  },
  {
   "cell_type": "code",
   "execution_count": null,
   "metadata": {},
   "outputs": [],
   "source": []
  }
 ],
 "metadata": {
  "kernelspec": {
   "display_name": "hoyahacks",
   "language": "python",
   "name": "python3"
  },
  "language_info": {
   "codemirror_mode": {
    "name": "ipython",
    "version": 3
   },
   "file_extension": ".py",
   "mimetype": "text/x-python",
   "name": "python",
   "nbconvert_exporter": "python",
   "pygments_lexer": "ipython3",
   "version": "3.12.1"
  }
 },
 "nbformat": 4,
 "nbformat_minor": 2
}
